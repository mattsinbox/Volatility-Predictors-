{
 "cells": [
  {
   "cell_type": "code",
   "execution_count": 1,
   "metadata": {},
   "outputs": [],
   "source": [
    "#import libraries \n",
    "import pandas as pd\n",
    "import numpy as np\n",
    "\n",
    "from IPython.display import display # Allows the use of display() for DataFrames\n",
    "\n",
    "\n",
    "import matplotlib.mlab as mlab\n",
    "import matplotlib.pyplot as plt\n",
    "\n",
    "# Pretty display for notebooks\n",
    "%matplotlib inline\n",
    "\n",
    "import seaborn as sns\n",
    "\n",
    "from sklearn.model_selection import train_test_split\n",
    "\n",
    "from datetime import datetime, timedelta\n",
    "\n",
    "import random\n",
    "from random import sample \n",
    "\n",
    "# Import the classifier from sklearn\n",
    "from sklearn.tree import DecisionTreeClassifier\n",
    "\n",
    "from sklearn.metrics import accuracy_score, precision_score, recall_score, f1_score\n",
    "\n",
    "from sklearn.metrics import precision_recall_fscore_support"
   ]
  },
  {
   "cell_type": "code",
   "execution_count": 2,
   "metadata": {},
   "outputs": [],
   "source": [
    "import pandas as pd  \n",
    "import numpy as np  \n",
    "import matplotlib.pyplot as plt  \n",
    "import seaborn as seabornInstance \n",
    "from sklearn.model_selection import train_test_split \n",
    "from sklearn.linear_model import LinearRegression\n",
    "from sklearn import metrics\n",
    "%matplotlib inline"
   ]
  },
  {
   "cell_type": "code",
   "execution_count": 3,
   "metadata": {},
   "outputs": [],
   "source": [
    "from sklearn.metrics import r2_score"
   ]
  },
  {
   "cell_type": "code",
   "execution_count": 4,
   "metadata": {},
   "outputs": [],
   "source": [
    "#imports from sklearn library\n",
    "\n",
    "from sklearn import datasets\n",
    "from sklearn.linear_model import LinearRegression\n",
    "from sklearn.preprocessing import PolynomialFeatures\n",
    "from sklearn.model_selection import train_test_split, cross_val_score\n",
    "from sklearn.metrics import mean_squared_error\n",
    "\n",
    "import seaborn as sn"
   ]
  },
  {
   "cell_type": "code",
   "execution_count": 5,
   "metadata": {},
   "outputs": [],
   "source": [
    "pd.options.display.max_columns = None"
   ]
  },
  {
   "cell_type": "code",
   "execution_count": 6,
   "metadata": {},
   "outputs": [],
   "source": [
    "#function to read and format csv file \n",
    "#input: file\n",
    "#output: df without NaNs, proper format\n",
    "\n",
    "def read_format(file):\n",
    "    df = pd.read_csv(file, header=1, parse_dates=True)\n",
    "    df = df.drop(df.tail(2).index)\n",
    "    df['Open Interest'].fillna(method='ffill', inplace=True)\n",
    "    \n",
    "    \n",
    "    return df"
   ]
  },
  {
   "cell_type": "markdown",
   "metadata": {},
   "source": [
    "## Period Volatility as Basis for Pricing Options \n",
    "\n",
    "Volatility is usually quoted annually but analyzed on a daily basis.  The conversion from annual to any period is not\n",
    "linear, but follows the formula in vol_convert. Therefore if the annual volatility is 16%, we would expect an approximate daily standard deviation of 1%. In option trading we would refer to this as the approximate break even rate on an option using the Black-Scholes formula for pricing.  Due to convexity an option holder can rehedge (scalp) their position. This leads to positive income for the option holder and offsets the natural decay of the option. vol_convert is returning the break even percentage move scalp that offsets the natural decay (theta) of the option.  Therefore one can back into the volatility of an option with the period percentage moves of its underlying.  "
   ]
  },
  {
   "cell_type": "markdown",
   "metadata": {},
   "source": [
    "## Convert Vols and Rates"
   ]
  },
  {
   "cell_type": "code",
   "execution_count": 7,
   "metadata": {},
   "outputs": [],
   "source": [
    "'''\n",
    "    Objective: Convert annualized volatility to a rate\n",
    "    INPUT:\n",
    "    vol -    the annualized volatility rate or annualized standard deviation in percentage terms\n",
    "    period - number of trading periods in a year, traders usually \n",
    "             look for a daily rate since they manage their positions \n",
    "             daily.  There are 255 trading days in a year, so that is the default period\n",
    "    \n",
    "    OUTPUT:\n",
    "    rate - percentage rate for a one standard deviation move in a given period\n",
    "'''\n",
    "def vol_convert(vol, period = 255):\n",
    "    rate = round(vol/((np.sqrt(period)*100)),6)\n",
    "    return rate"
   ]
  },
  {
   "cell_type": "code",
   "execution_count": 8,
   "metadata": {},
   "outputs": [],
   "source": [
    "'''\n",
    "    Objective: Convert rate to a annualized volatility \n",
    "    INPUT:\n",
    "    rate -   percentage rate for a one standard deviation move in a given period\n",
    "    period - number of trading periods in a year, traders usually \n",
    "             look for a daily rate since they manage their positions \n",
    "             daily.  There are 255 trading days in a year, so that is the default period\n",
    "    \n",
    "    OUTPUT:\n",
    "    vol - the annualized volatility rate or annualized standard deviation in percentage terms\n",
    "'''\n",
    "\n",
    "\n",
    "def rate_convert(rate, period = 255):\n",
    "    vol = round((rate*100*(np.sqrt(period))),2)\n",
    "    \n",
    "    return vol"
   ]
  },
  {
   "cell_type": "markdown",
   "metadata": {},
   "source": [
    "## Variables"
   ]
  },
  {
   "cell_type": "code",
   "execution_count": 9,
   "metadata": {},
   "outputs": [],
   "source": [
    "# set files to a variable\n",
    "file_one = r\"C:\\Users\\Matt\\Desktop\\eur_data.csv\"\n",
    "file_two = r\"C:\\Users\\Matt\\Desktop\\jpy_data.csv\"\n",
    "file_three = r\"C:\\Users\\Matt\\Desktop\\bp_data.csv\"\n",
    "file_four = r\"C:\\Users\\Matt\\Desktop\\ca_data.csv\"\n",
    "file_five = r\"C:\\Users\\Matt\\Desktop\\au_data.csv\""
   ]
  },
  {
   "cell_type": "code",
   "execution_count": 10,
   "metadata": {},
   "outputs": [],
   "source": [
    "# read in and clean csv files to a data frame \n",
    "eur = read_format(file_one)\n",
    "jpy = read_format(file_two)\n",
    "bp =  read_format(file_three)\n",
    "ca =  read_format(file_four)\n",
    "au =  read_format(file_five)"
   ]
  },
  {
   "cell_type": "code",
   "execution_count": 11,
   "metadata": {},
   "outputs": [],
   "source": [
    "#implied volatilities for each asset\n",
    "eu_vol = 4.50\n",
    "jpy_vol = 5.15\n",
    "bp_vol = 11.50\n",
    "au_vol = 6\n",
    "ca_vol = 3.72"
   ]
  },
  {
   "cell_type": "code",
   "execution_count": 12,
   "metadata": {},
   "outputs": [],
   "source": [
    "#files and vols to associate \n",
    "#focus asset defined at the asset whose vol one is looking to predict\n",
    "#the sub assets and vols are the predictor assets\n",
    "focus = eur.copy()\n",
    "sub1 = jpy.copy()\n",
    "sub2 = bp.copy()\n",
    "sub3 = ca.copy()\n",
    "sub4 = au.copy()\n",
    "\n",
    "focus_vol = eu_vol\n",
    "focus_file = file_two\n",
    "\n",
    "sub_vol = jpy_vol\n",
    "sub_file = file_two\n",
    "atm_price = 1.1050\n",
    "\n",
    "sub2_vol = bp_vol\n",
    "sub3_vol = ca_vol\n",
    "sub4_vol = au_vol"
   ]
  },
  {
   "cell_type": "code",
   "execution_count": null,
   "metadata": {},
   "outputs": [],
   "source": [
    "\n"
   ]
  },
  {
   "cell_type": "code",
   "execution_count": 13,
   "metadata": {},
   "outputs": [],
   "source": [
    "#range of days for sample analysis, realized volatility mean and confidence level above vol\n",
    "#range of days for sample straddle analysis\n",
    "#number of days to sample, generally the number of business days until option expiration\n",
    "#the at the money price of the asset\n",
    "#the previous number of days in the data set to train to ML models \n",
    "sample_start_date = '2019-01-01'\n",
    "sample_end_date = '2019-11-15'\n",
    "days_to_train = 255\n",
    "number_of_days_to_sample = 17\n"
   ]
  },
  {
   "cell_type": "code",
   "execution_count": 14,
   "metadata": {},
   "outputs": [],
   "source": [
    "#variables for Decision Tree\n",
    "\n",
    "fv_dataframe = read_format(focus_file).copy()\n",
    "dt_df = fv_dataframe.iloc[-days_to_train:].copy()\n",
    "start_vol = 3.5\n",
    "end_vol = 8\n",
    "step = .15\n",
    "hist_period1 = 15\n",
    "hist_period2 = 22\n",
    "hist_period3 = 44\n",
    "volume_period1 = 10\n",
    "volume_period2 = 20\n",
    "forward_vol_period = number_of_days_to_sample"
   ]
  },
  {
   "cell_type": "markdown",
   "metadata": {},
   "source": [
    "## Time Analysis"
   ]
  },
  {
   "cell_type": "code",
   "execution_count": 15,
   "metadata": {},
   "outputs": [],
   "source": [
    "'''\n",
    "    Objective: Convert dataframe with datetime so user can query for a specif range of dates or times\n",
    "    INPUT:\n",
    "    dataframe - the dataframe to convert, generally the asset which we will focus and attempt to predict vol\n",
    "    hist1 - the number of days back to calculate the average historical realized volatility\n",
    "    \n",
    "    OUTPUT:\n",
    "    rate - dataframe in datetime\n",
    "'''\n",
    "\n",
    "\n",
    "def process_for_time_analysis(dataframe, hist1 = 20):\n",
    "    \n",
    "    \n",
    "    \n",
    "    dataframe['percent_move'] = dataframe['Change'] / dataframe['Close']\n",
    "    \n",
    "    dataframe['abs_percent_move'] = dataframe['Change'].abs() / dataframe['Close']\n",
    "    \n",
    "    dataframe['abs_change'] = rate_convert(dataframe['Change'].abs() / dataframe['Close'])\n",
    "    \n",
    "    \n",
    "    \n",
    "    dataframe['high_move'] = rate_convert((((dataframe.High - dataframe.Close.shift(1))/dataframe['Close']).abs()))\n",
    "    dataframe['low_move'] = rate_convert((((dataframe.Low - dataframe.Close.shift(1))/dataframe['Close']).abs()))\n",
    "    dataframe['max_move'] = dataframe[['high_move', 'low_move']].max(axis=1)\n",
    "    \n",
    "    dataframe['avg_max_close'] = dataframe[['max_move', 'abs_change']].mean(axis=1)\n",
    "    \n",
    "    dataframe['Realized_historical_vol'] = dataframe.avg_max_close.rolling(window=hist1).mean()\n",
    "    \n",
    "    dataframe['historical_volume'] = dataframe.Volume.rolling(window=hist1).mean()\n",
    "    \n",
    "    dataframe['Date Time'] = pd.to_datetime(dataframe['Date Time'])\n",
    "    dataframe['Year'] = dataframe['Date Time'].dt.year\n",
    "    dataframe['month'] = dataframe['Date Time'].dt.month\n",
    "    dataframe['weekday'] = dataframe['Date Time'].dt.weekday_name\n",
    "    \n",
    "    dataframe = dataframe.set_index('Date Time')\n",
    "    \n",
    "    dataframe = dataframe.dropna(how = 'any')\n",
    "    \n",
    "    return dataframe "
   ]
  },
  {
   "cell_type": "code",
   "execution_count": 16,
   "metadata": {},
   "outputs": [],
   "source": [
    "#copy the focus asset dataframe\n",
    "df_for_time = focus.copy()"
   ]
  },
  {
   "cell_type": "code",
   "execution_count": 17,
   "metadata": {},
   "outputs": [],
   "source": [
    "#process the focus dataframe for datetime \n",
    "time_df = process_for_time_analysis(df_for_time)"
   ]
  },
  {
   "cell_type": "code",
   "execution_count": 18,
   "metadata": {},
   "outputs": [
    {
     "data": {
      "image/png": "[encoded data removed]",
      "text/plain": [
       "<Figure size 432x288 with 1 Axes>"
      ]
     },
     "metadata": {},
     "output_type": "display_data"
    }
   ],
   "source": [
    "#look at the realized historical vol distribution\n",
    "\n",
    "num_bins = 500\n",
    "x = time_df['Realized_historical_vol']\n",
    "n, bins, patches = plt.hist(x, num_bins, facecolor='blue', alpha=0.5)\n",
    "plt.show()"
   ]
  },
  {
   "cell_type": "code",
   "execution_count": 19,
   "metadata": {},
   "outputs": [],
   "source": [
    "import seaborn as sns\n",
    "# Use seaborn style defaults and set the default figure size\n",
    "sns.set(rc={'figure.figsize':(11, 4)})"
   ]
  },
  {
   "cell_type": "code",
   "execution_count": 20,
   "metadata": {},
   "outputs": [
    {
     "data": {
      "image/png": "[encoded data removed]",
      "text/plain": [
       "<Figure size 792x288 with 1 Axes>"
      ]
     },
     "metadata": {},
     "output_type": "display_data"
    }
   ],
   "source": [
    "#graph realized historical vol over time \n",
    "time_df['Realized_historical_vol'].plot(linewidth=0.5);"
   ]
  },
  {
   "cell_type": "code",
   "execution_count": 21,
   "metadata": {},
   "outputs": [],
   "source": [
    "#create a dataframe for this current year\n",
    "this_year = time_df.loc['2019']"
   ]
  },
  {
   "cell_type": "code",
   "execution_count": 22,
   "metadata": {},
   "outputs": [
    {
     "data": {
      "image/png": "[encoded data removed]",
      "text/plain": [
       "<Figure size 792x288 with 1 Axes>"
      ]
     },
     "metadata": {},
     "output_type": "display_data"
    }
   ],
   "source": [
    "#graph realized historical vol over the past year\n",
    "this_year['Realized_historical_vol'].plot(linewidth=0.5);"
   ]
  },
  {
   "cell_type": "code",
   "execution_count": 23,
   "metadata": {},
   "outputs": [
    {
     "data": {
      "image/png": "[encoded data removed]",
      "text/plain": [
       "<Figure size 1080x864 with 3 Axes>"
      ]
     },
     "metadata": {},
     "output_type": "display_data"
    }
   ],
   "source": [
    "#graph the closing price, historic vol and historic volume vertically for comparison over time \n",
    "\n",
    "cols_plot = ['Close', 'historical_volume', 'Realized_historical_vol']\n",
    "axes = this_year[cols_plot].plot(marker='.', alpha=0.5, linestyle='None', figsize=(15, 12), subplots=True)\n",
    "#for ax in axes:\n",
    "#   ax.set_ylabel('Title')"
   ]
  },
  {
   "cell_type": "code",
   "execution_count": 24,
   "metadata": {},
   "outputs": [
    {
     "data": {
      "image/png": "[encoded data removed]",
      "text/plain": [
       "<Figure size 792x288 with 1 Axes>"
      ]
     },
     "metadata": {},
     "output_type": "display_data"
    }
   ],
   "source": [
    "#graph realized historical vol over the past few months\n",
    "\n",
    "ax = time_df.loc['2019-09':'2019-10', 'Realized_historical_vol'].plot(marker='o', linestyle='-')\n",
    "ax.set_ylabel('Vol');"
   ]
  },
  {
   "cell_type": "code",
   "execution_count": 25,
   "metadata": {},
   "outputs": [
    {
     "data": {
      "text/plain": [
       "Text(0.5,1,'Sep-October 2019 Historical_Vol')"
      ]
     },
     "execution_count": 25,
     "metadata": {},
     "output_type": "execute_result"
    },
    {
     "data": {
      "image/png": "[encoded data removed]",
      "text/plain": [
       "<Figure size 792x288 with 1 Axes>"
      ]
     },
     "metadata": {},
     "output_type": "display_data"
    }
   ],
   "source": [
    "fig, ax = plt.subplots()\n",
    "ax.plot(time_df.loc['2019-09':'2019-10', 'Realized_historical_vol'], marker='o', linestyle='-')\n",
    "ax.set_ylabel('Realized Vol')\n",
    "ax.set_title('Sep-October 2019 Historical_Vol')\n"
   ]
  },
  {
   "cell_type": "code",
   "execution_count": 26,
   "metadata": {},
   "outputs": [
    {
     "data": {
      "image/png": "[encoded data removed]",
      "text/plain": [
       "<Figure size 792x720 with 2 Axes>"
      ]
     },
     "metadata": {},
     "output_type": "display_data"
    }
   ],
   "source": [
    "fig, axes = plt.subplots(2, 1, figsize=(11, 10), sharex=True)\n",
    "for name, ax in zip(['avg_max_close', 'Volume'], axes):\n",
    "    sns.boxplot(data=time_df, x='month', y=name, ax=ax)\n",
    "    ax.set_ylabel('GWh')\n",
    "    ax.set_title(name)\n",
    "# Remove the automatic x-axis label from all but the bottom subplot\n",
    "if ax != axes[-1]:\n",
    "    ax.set_xlabel('')"
   ]
  },
  {
   "cell_type": "markdown",
   "metadata": {},
   "source": [
    "We can see that the volatility is erratic and does not trend.  These time series charts show that volatility has dramatic swings.  This makes predicting an asset’s volatility difficult without incorporating other techniques.  \n",
    "\n",
    "When we graphed the realized volatility against other possible predictors to see if any relationship exists.    Looking at the graphs  we start to see similar shapes forming between price and volume.  Visually you start to see some correlation between these variables.  Running some machine learning algorithms would allow us to see if these variables are actual predictors of realized volatility as opposed to mere correlation.  Machine Learning algorithms would also allow us to define this relationship.  "
   ]
  },
  {
   "cell_type": "markdown",
   "metadata": {},
   "source": [
    "## Sample Data\n",
    "    "
   ]
  },
  {
   "cell_type": "code",
   "execution_count": 27,
   "metadata": {},
   "outputs": [],
   "source": [
    "#time period for the sampling\n",
    "range_of_days = time_df.loc[sample_start_date : sample_end_date]\n"
   ]
  },
  {
   "cell_type": "code",
   "execution_count": 28,
   "metadata": {},
   "outputs": [],
   "source": [
    "'''\n",
    "    Objective:  sample a dataframe for the historical volatility, find the mean over the iterations and probability \n",
    "                that vol is greater than a certain vol over that period.  \n",
    "    INPUT:\n",
    "    dataframe: the dataframe to sample from\n",
    "    num_days_to_sample: the number of days to sample\n",
    "    iterations: how many iterations\n",
    "    vol_to_compare: volatility to calculate what percentage of the iterations were greater \n",
    "    \n",
    "    OUTPUT:\n",
    "    The number of days, the mean vol, the standard deviation and percentage above the vol_to_compare\n",
    "'''\n",
    "\n",
    "\n",
    "def hist_move_sampling(df, num_days_to_sample, iterations, vol_to_compare, replace=False):\n",
    "    x = 0\n",
    "    list_of_means = []\n",
    "    while x < iterations:\n",
    "        the_list_of_moves = df['abs_percent_move'].sample(n=num_days_to_sample, replace = replace).values\n",
    "        mean_of_moves = rate_convert(np.mean(the_list_of_moves))\n",
    "        list_of_means.append(mean_of_moves)\n",
    "    \n",
    "        x = x + 1 \n",
    "    mean = round(np.mean(list_of_means), 2)\n",
    "    standard_deviation = round(np.std(list_of_means), 2)\n",
    "    per_above_vol = round((len([i for i in list_of_means if i > vol_to_compare]) )/iterations, 4)\n",
    "    \n",
    "    print('The date range includes',len(df), 'days')\n",
    "    print(num_days_to_sample, 'days were sampled, out of the', len(df), 'days')\n",
    "    print('The mean vol is:', mean)\n",
    "    print('The standard deviation is:', standard_deviation)\n",
    "    print('The percentage of sample groups that had mean volatilities above', vol_to_compare, 'is:',\n",
    "          per_above_vol)\n",
    "    "
   ]
  },
  {
   "cell_type": "code",
   "execution_count": null,
   "metadata": {},
   "outputs": [],
   "source": []
  },
  {
   "cell_type": "code",
   "execution_count": 29,
   "metadata": {},
   "outputs": [],
   "source": [
    "#helper function that takes a list of absolute percentage moves and a starting price and returns the ending price\n",
    "\n",
    "def price_sim(the_list, starting_price):\n",
    "    up_down = [1,-1]\n",
    "    price = starting_price\n",
    "    for x in the_list:\n",
    "        day = random.choice(up_down)\n",
    "        move = 1 + (day * x)\n",
    "        price = price * move \n",
    "        \n",
    "    return price \n",
    "    \n",
    "    "
   ]
  },
  {
   "cell_type": "code",
   "execution_count": 30,
   "metadata": {},
   "outputs": [],
   "source": [
    "#helper function that takes a list of percentage moves and a starting price and returns the ending price\n",
    "\n",
    "def price_sim_more(the_list, starting_price):\n",
    "    price = starting_price\n",
    "    for x in the_list:\n",
    "        move = 1 + x\n",
    "        price = price * move \n",
    "        \n",
    "    return price \n",
    "    "
   ]
  },
  {
   "cell_type": "markdown",
   "metadata": {},
   "source": [
    "## Predict Straddle Price from Sampling Historical Data"
   ]
  },
  {
   "cell_type": "markdown",
   "metadata": {},
   "source": [
    "Description of a straddle:  https://www.investopedia.com/terms/s/straddle.asp"
   ]
  },
  {
   "cell_type": "code",
   "execution_count": 31,
   "metadata": {},
   "outputs": [],
   "source": [
    "'''\n",
    "    Objective: return an asset's straddle price by randomly sampling daily moves of an asset in a dataframe \n",
    "    INPUT:\n",
    "    dataframe: the dataframe to sample, generally includes the data about the asset\n",
    "                which we will focus \n",
    "    iterations:  the number of iterations\n",
    "    starting_price: starting price of the asset before any daily moves have been applied.  \n",
    "    \n",
    "    OUTPUT:\n",
    "    rate - straddle price \n",
    "'''\n",
    "\n",
    "\n",
    "def sim_option_value(df, iterations, sample_size, starting_price, replace = False):\n",
    "    x = 0\n",
    "    simulated_prices = []\n",
    "    while x < iterations:\n",
    "        list_of_moves = df['percent_move'].sample(n=sample_size, replace = replace).values\n",
    "        end_price = price_sim_more(list_of_moves, starting_price)\n",
    "        simulated_prices.append(end_price)\n",
    "    \n",
    "        x = x + 1 \n",
    "    mean = np.mean(simulated_prices)\n",
    "    option_value = (mean - starting_price)\n",
    "    straddle_price = np.abs((option_value * 2))\n",
    "    \n",
    "    return round(straddle_price, 5)\n",
    "    \n",
    "    \n",
    "    "
   ]
  },
  {
   "cell_type": "markdown",
   "metadata": {},
   "source": [
    "## Historical Volatility and Ranges \n",
    "Since volatility is the basis for pricing options, any gauge that helps predict future volatility would \n",
    "be a valuable tool.  Predicting the level of future volatility is not straightforward and may not be the same in \n",
    "every market.  This is why machine learning algorithms could be helpful.  Machine Learning algorithms could comb through \n",
    "historical data in a market and learn from the experience which situations produced future levels of volatility.  \n"
   ]
  },
  {
   "cell_type": "markdown",
   "metadata": {},
   "source": [
    "Here we process the dataframes to show the future volatility.  From a certain point in time, we can look ahead and take the average volatility for a certain period.  That is the forward volatility.  From there we can measure that against the current known variables.  That includes the historical volatility (forward volatility backwards), volume and open interest.  "
   ]
  },
  {
   "cell_type": "markdown",
   "metadata": {},
   "source": [
    "## Measuring Volatility (Moves)"
   ]
  },
  {
   "cell_type": "code",
   "execution_count": 32,
   "metadata": {},
   "outputs": [],
   "source": [
    "\n",
    "'''\n",
    "    Objective: process dataset ready for machine learning, create columns that measure previous and future movement \n",
    "    INPUTS:\n",
    "    dataframe - dataframe from read_format\n",
    "    hist1,hist2,hist3 - the historical time periods (days) to average moves for ML input\n",
    "    volume1, volume2 - the historical time periods (days) to average volume for ML input\n",
    "    forward_vol_period - the forward time period (days) to average moves for ML input\n",
    "    question_vol - the volatility we are testing in the forward time period to \n",
    "                   produce an output column value of 1 or 0.   \n",
    "    cushion - any additional cushion to the question_vol.  Margin of error for a trade to be considered.  \n",
    "    \n",
    "    OUTPUT:\n",
    "            Dataframe that is ready for ML processing.  \n",
    "            A dataframe that has historical movement values, future movement values and a column that measures\n",
    "            if the future volatility is greater than the question_vol.  For example, on a certain date we have \n",
    "            the price action of the past and future.  This dataframe will take various measures of past movements and \n",
    "            a measure of future movements.  It will then create a column that tests if the future movement was \n",
    "            greater than the question_vol.  This is our output column for ML.  \n",
    "'''\n",
    "def process(dataframe, hist1, hist2, hist3, volume1, volume2, forward_vol_period, question_vol, cushion):\n",
    "    \n",
    "    \n",
    "    dataframe['abs_change'] = dataframe['Change'].abs() / dataframe['Close']\n",
    "    \n",
    "    dataframe['high_move'] = (((dataframe.High - dataframe.Close.shift(1))/dataframe['Close']).abs())\n",
    "    dataframe['low_move'] = (((dataframe.Low - dataframe.Close.shift(1))/dataframe['Close']).abs())\n",
    "    dataframe['max_move'] = dataframe[['high_move', 'low_move']].max(axis=1)\n",
    "    \n",
    "    dataframe['hist_max_1'] = dataframe.max_move.rolling(window=hist1).mean()\n",
    "    dataframe['hist_max_2'] = dataframe.max_move.rolling(window=hist2).mean()\n",
    "    dataframe['hist_max_3'] = dataframe.max_move.rolling(window=hist3).mean()\n",
    "    \n",
    "    dataframe['hist_change_1'] = dataframe.abs_change.rolling(window=hist1).mean()\n",
    "    dataframe['hist_change_2'] = dataframe.abs_change.rolling(window=hist2).mean()\n",
    "    dataframe['hist_change_3'] = dataframe.abs_change.rolling(window=hist3).mean()\n",
    "    \n",
    "    dataframe['avg_max_close'] = dataframe[['max_move', 'abs_change']].mean(axis=1)\n",
    "    \n",
    "    dataframe['hist_avgmax_1'] = dataframe.avg_max_close.rolling(window=hist1).mean()\n",
    "    dataframe['hist_avgmax_2'] = dataframe.avg_max_close.rolling(window=hist2).mean()\n",
    "    dataframe['hist_avgmax_3'] = dataframe.avg_max_close.rolling(window=hist3).mean()\n",
    "    \n",
    "    dataframe['hist_volume_1'] = dataframe.Volume.rolling(window=volume1).mean()\n",
    "    dataframe['hist_volume_2'] = dataframe.Volume.rolling(window=volume2).mean()\n",
    "    \n",
    "    dataframe['backtothefuture'] = dataframe.avg_max_close.rolling(window=forward_vol_period).mean()\n",
    "    \n",
    "    dataframe['forward_avg_close_max'] = dataframe['backtothefuture'].shift(-forward_vol_period)\n",
    "    \n",
    "    \n",
    "    \n",
    "    \n",
    "    \n",
    "    \n",
    "    dataframe['volatile'] = (dataframe['forward_avg_close_max'] > question_vol + cushion)\n",
    "    dataframe = dataframe.applymap(lambda x: 1 if x == True else x)\n",
    "    dataframe = dataframe.applymap(lambda x: 0 if x == False else x)\n",
    "    #drop column \n",
    "    del dataframe['Date Time']\n",
    "    del dataframe['Open']\n",
    "    del dataframe['High']\n",
    "    del dataframe['Low']\n",
    "    del dataframe['Close']\n",
    "    del dataframe['backtothefuture']\n",
    "    \n",
    "    dataframe = dataframe.dropna(how = 'any')\n",
    "    \n",
    "    return dataframe "
   ]
  },
  {
   "cell_type": "code",
   "execution_count": null,
   "metadata": {},
   "outputs": [],
   "source": []
  },
  {
   "cell_type": "code",
   "execution_count": null,
   "metadata": {},
   "outputs": [],
   "source": []
  },
  {
   "cell_type": "markdown",
   "metadata": {},
   "source": [
    "## Regress Forward Vol"
   ]
  },
  {
   "cell_type": "code",
   "execution_count": 33,
   "metadata": {},
   "outputs": [],
   "source": [
    "'''\n",
    "    Objective:  process and combine dataframes for multiple regression, create columns \n",
    "                that measure average future movement from 4 predictor dataframes and one dependent dataframe.  \n",
    "    INPUTS:\n",
    "    dataframe1,2,3,4: four Predictor dataframes\n",
    "    forward_vol_period: the forward vol period, number of days forward that we are measuring, generally \n",
    "                        that would be the time to expiration of the option.  \n",
    "    \n",
    "    OUTPUT:\n",
    "    Dataframe ready for multiple regression  \n",
    "'''\n",
    "\n",
    "def process_forward_regress(dataframe1, dataframe2, dataframe3, dataframe4, predict_df, forward_vol_period):\n",
    "    \n",
    "    \n",
    "    dataframe1['abs_change'] = dataframe1['Change'].abs() / dataframe1['Close']\n",
    "    \n",
    "    dataframe1['high_move'] = (((dataframe1.High - dataframe1.Close.shift(1))/dataframe1['Close']).abs())\n",
    "    dataframe1['low_move'] = (((dataframe1.Low - dataframe1.Close.shift(1))/dataframe1['Close']).abs())\n",
    "    dataframe1['max_move'] = dataframe1[['high_move', 'low_move']].max(axis=1)\n",
    "    \n",
    "    \n",
    "    dataframe1['move_df1'] = dataframe1[['max_move', 'abs_change']].mean(axis=1)\n",
    "    dataframe1['backtothefuture'] = dataframe1.move_df1.rolling(window=forward_vol_period).mean()\n",
    "    dataframe1['for_vol_df1'] = dataframe1['backtothefuture'].shift(-forward_vol_period)\n",
    "    \n",
    "    \n",
    "    \n",
    "    dataframe2['abs_change'] = dataframe2['Change'].abs() / dataframe2['Close']\n",
    "    dataframe2['high_move'] = (((dataframe2.High - dataframe2.Close.shift(1))/dataframe2['Close']).abs())\n",
    "    dataframe2['low_move'] = (((dataframe2.Low - dataframe2.Close.shift(1))/dataframe2['Close']).abs())\n",
    "    dataframe2['max_move'] = dataframe2[['high_move', 'low_move']].max(axis=1)\n",
    "    \n",
    "    \n",
    "    dataframe2['move_df2'] = dataframe2[['max_move', 'abs_change']].mean(axis=1)\n",
    "    dataframe2['backtothefuture'] = dataframe2.move_df2.rolling(window=forward_vol_period).mean()\n",
    "    dataframe2['for_vol_df2'] = dataframe2['backtothefuture'].shift(-forward_vol_period)\n",
    "    \n",
    "    two_dataframe = pd.merge(dataframe1, dataframe2, on='Date Time')\n",
    "    \n",
    "    dataframe3['abs_change'] = dataframe3['Change'].abs() / dataframe3['Close']\n",
    "    dataframe3['high_move'] = (((dataframe3.High - dataframe3.Close.shift(1))/dataframe3['Close']).abs())\n",
    "    dataframe3['low_move'] = (((dataframe3.Low - dataframe3.Close.shift(1))/dataframe3['Close']).abs())\n",
    "    dataframe3['max_move'] = dataframe3[['high_move', 'low_move']].max(axis=1)\n",
    "    \n",
    "    \n",
    "    dataframe3['move_df3'] = dataframe3[['max_move', 'abs_change']].mean(axis=1)\n",
    "    dataframe3['backtothefuture'] = dataframe3.move_df3.rolling(window=forward_vol_period).mean()\n",
    "    dataframe3['for_vol_df3'] = dataframe3['backtothefuture'].shift(-forward_vol_period)\n",
    "    \n",
    "    \n",
    "    three_dataframe = pd.merge(two_dataframe, dataframe3, on='Date Time')\n",
    "    \n",
    "    dataframe4['abs_change'] = dataframe4['Change'].abs() / dataframe4['Close']\n",
    "    dataframe4['high_move'] = (((dataframe4.High - dataframe4.Close.shift(1))/dataframe4['Close']).abs())\n",
    "    dataframe4['low_move'] = (((dataframe4.Low - dataframe4.Close.shift(1))/dataframe4['Close']).abs())\n",
    "    dataframe4['max_move'] = dataframe4[['high_move', 'low_move']].max(axis=1)\n",
    "    \n",
    "    \n",
    "    dataframe4['move_df4'] = dataframe4[['max_move', 'abs_change']].mean(axis=1)\n",
    "    dataframe4['backtothefuture'] = dataframe4.move_df4.rolling(window=forward_vol_period).mean()\n",
    "    dataframe4['for_vol_df4'] = dataframe4['backtothefuture'].shift(-forward_vol_period)\n",
    "    \n",
    "    \n",
    "    four_dataframe = pd.merge(three_dataframe, dataframe4, on='Date Time')\n",
    "    \n",
    "    \n",
    "    \n",
    "    predict_df['abs_change'] = predict_df['Change'].abs() / predict_df['Close']\n",
    "    predict_df['high_move'] = (((predict_df.High - predict_df.Close.shift(1))/predict_df['Close']).abs())\n",
    "    predict_df['low_move'] = (((predict_df.Low - predict_df.Close.shift(1))/predict_df['Close']).abs())\n",
    "    predict_df['max_move'] = predict_df[['high_move', 'low_move']].max(axis=1)\n",
    "    \n",
    "    \n",
    "    predict_df['predict'] = predict_df[['max_move', 'abs_change']].mean(axis=1)\n",
    "    predict_df['backtothefuture'] = predict_df.predict.rolling(window=forward_vol_period).mean()\n",
    "    predict_df['for_vol_predict'] = predict_df['backtothefuture'].shift(-forward_vol_period)\n",
    "    \n",
    "    \n",
    "\n",
    "    five_dataframe = pd.merge(four_dataframe, predict_df, on='Date Time')\n",
    "    \n",
    "    dataframe = five_dataframe[[ \"Date Time\",\"move_df1\", \"move_df2\", \"move_df3\", \"move_df4\", \"predict\", \n",
    "                                'for_vol_df1', 'for_vol_df2', 'for_vol_df3', 'for_vol_df4', 'for_vol_predict']]\n",
    "    \n",
    "    dataframe = dataframe.dropna(how = 'any')\n",
    "    dataframe = dataframe.iloc[1:]\n",
    "    \n",
    "    \n",
    "    return dataframe "
   ]
  },
  {
   "cell_type": "code",
   "execution_count": 34,
   "metadata": {},
   "outputs": [],
   "source": [
    "#helper function that takes 4 predictor vols and returns a list of their rates\n",
    "\n",
    "def process_vols(predictor1, predictor2, predictor3, predictor4):\n",
    "    rate1 = vol_convert(predictor1)\n",
    "    rate2 = vol_convert(predictor2)\n",
    "    rate3 = vol_convert(predictor3)\n",
    "    rate4 = vol_convert(predictor4)\n",
    "    \n",
    "    predictor_list = [rate1, rate2, rate3, rate4]\n",
    "    \n",
    "    return predictor_list"
   ]
  },
  {
   "cell_type": "code",
   "execution_count": 35,
   "metadata": {},
   "outputs": [],
   "source": [
    "'''\n",
    "    Objective: use multiple regression to predict the vol   \n",
    "    INPUTS:\n",
    "    dataframe - dataframe processed from process_forward_regress\n",
    "    most_degree - the most amount of degress for the polynomial\n",
    "    num_feat - the number of features to regress, generally this would be the number of assets to\n",
    "                use to predict the vol \n",
    "    predictors: a list of predictors to feed into the regression model, this list would be generated from \n",
    "                the process vols function\n",
    "    \n",
    "    Output: The number of features used, the number of predictors used, the root mean square error,\n",
    "            the root mean square error in vol, the R2 and the predicted vol.  \n",
    "'''\n",
    "\n",
    "\n",
    "\n",
    "\n",
    "\n",
    "\n",
    "def predict_multiple(dataframe, most_degree, num_feat, predictors):\n",
    "    \n",
    "    rmse_vol_list = []\n",
    "    d = 1\n",
    "    degrees = []\n",
    "    while d < most_degree:\n",
    "        all_features = ['for_vol_df1','for_vol_df2', 'for_vol_df3', 'for_vol_df4']\n",
    "        features_to_use = all_features[0 : num_feat]\n",
    "        #predictors_to_use = predictors[0 : num_feat]\n",
    "        \n",
    "        x = dataframe[features_to_use].values\n",
    "        \n",
    "        y = dataframe['for_vol_predict'].values\n",
    "        \n",
    "        polynomial_features= PolynomialFeatures(degree=d)\n",
    "        x_poly = polynomial_features.fit_transform(x)\n",
    "\n",
    "        new_model = LinearRegression()\n",
    "        new_model.fit(x_poly, y)\n",
    "        y_poly_pred = new_model.predict(x_poly)\n",
    "\n",
    "        rmse = np.sqrt(mean_squared_error(y,y_poly_pred))\n",
    "        r2 = r2_score(y,y_poly_pred)\n",
    "        rmse_vol = rate_convert(rmse)\n",
    "        \n",
    "        rmse_vol_list.append(rmse_vol)\n",
    "        degrees.append(d)\n",
    "        \n",
    "        d = d + 1 \n",
    "        \n",
    "    lowest_rmse_vol = min(rmse_vol_list)\n",
    "    lowest_rmse_vol_position = rmse_vol_list.index(lowest_rmse_vol)\n",
    "    the_degree = lowest_rmse_vol_position + 1 \n",
    "    \n",
    "    #return lowest_rmse_vol_position, rmse_vol_list\n",
    "    \n",
    "    all_features = ['for_vol_df1','for_vol_df2', 'for_vol_df3', 'for_vol_df4']\n",
    "    features_to_use = all_features[0 : num_feat]\n",
    "    predictors_to_use = predictors[0 : num_feat]\n",
    "    \n",
    "    x = dataframe[features_to_use].values\n",
    "    y = dataframe['for_vol_predict'].values\n",
    "\n",
    "    polynomial_features= PolynomialFeatures(degree=the_degree)\n",
    "    x_poly = polynomial_features.fit_transform(x)\n",
    "\n",
    "    new_model = LinearRegression()\n",
    "    new_model.fit(x_poly, y)\n",
    "    y_poly_pred = new_model.predict(x_poly)\n",
    "\n",
    "    rmse = np.sqrt(mean_squared_error(y,y_poly_pred))\n",
    "    r2 = r2_score(y,y_poly_pred)\n",
    "    rmse_vol = rate_convert(rmse)\n",
    "    \n",
    "    polynomial_features=PolynomialFeatures(degree=the_degree)\n",
    "    x_test_poly = polynomial_features.fit_transform([predictors_to_use])\n",
    "    rate = new_model.predict(x_test_poly)\n",
    "    \n",
    "    \n",
    "    vol = rate_convert(rate[0])\n",
    "    #vol_spread = round(vol - rate_convert(feature), 4)\n",
    "    #feature_vol = rate_convert(feature)\n",
    "    \n",
    "    \n",
    "    print('The features used are: ', features_to_use)\n",
    "    print('The predictors used are: ', predictors_to_use)\n",
    "    print('The root mean square error is: ', rmse)\n",
    "    print('The root mean square error in vol is: ', rmse_vol)\n",
    "    print('The R2 is: ', r2)\n",
    "    print('The degree is: ', the_degree)\n",
    "    print('The predicted vol is: ', vol)\n",
    "\n",
    "    "
   ]
  },
  {
   "cell_type": "markdown",
   "metadata": {},
   "source": [
    "## Regression for Two Variables"
   ]
  },
  {
   "cell_type": "code",
   "execution_count": 36,
   "metadata": {},
   "outputs": [],
   "source": [
    "'''\n",
    "    Objective:  process and combine dataframes for simple regression, create columns \n",
    "                that measure average future movement from 1 predictor and one dependent dataframe.  \n",
    "    INPUTS:\n",
    "    dataframe1: one predictor dataframe\n",
    "    predict_df: the dataframe for the asset we are trying to predict, the dependent variable\n",
    "    forward_vol_period: the forward vol period, number of days forward that we are measuring, generally \n",
    "                        that would be the time to expiration of the option.  \n",
    "    \n",
    "    OUTPUT:\n",
    "    Dataframe ready for simple regression  \n",
    "'''\n",
    "\n",
    "\n",
    "\n",
    "def process_forward_regress_two(dataframe1, predict_df, forward_vol_period):\n",
    "    \n",
    "    \n",
    "    dataframe1['abs_change'] = dataframe1['Change'].abs() / dataframe1['Close']\n",
    "    \n",
    "    dataframe1['high_move'] = (((dataframe1.High - dataframe1.Close.shift(1))/dataframe1['Close']).abs())\n",
    "    dataframe1['low_move'] = (((dataframe1.Low - dataframe1.Close.shift(1))/dataframe1['Close']).abs())\n",
    "    dataframe1['max_move'] = dataframe1[['high_move', 'low_move']].max(axis=1)\n",
    "    \n",
    "    \n",
    "    dataframe1['move_df1'] = dataframe1[['max_move', 'abs_change']].mean(axis=1)\n",
    "    dataframe1['backtothefuture'] = dataframe1.move_df1.rolling(window=forward_vol_period).mean()\n",
    "    dataframe1['for_vol_df1'] = dataframe1['backtothefuture'].shift(-forward_vol_period)\n",
    "    \n",
    "    \n",
    "    predict_df['abs_change'] = predict_df['Change'].abs() / predict_df['Close']\n",
    "    predict_df['high_move'] = (((predict_df.High - predict_df.Close.shift(1))/predict_df['Close']).abs())\n",
    "    predict_df['low_move'] = (((predict_df.Low - predict_df.Close.shift(1))/predict_df['Close']).abs())\n",
    "    predict_df['max_move'] = predict_df[['high_move', 'low_move']].max(axis=1)\n",
    "    \n",
    "    \n",
    "    predict_df['predict'] = predict_df[['max_move', 'abs_change']].mean(axis=1)\n",
    "    predict_df['backtothefuture'] = predict_df.predict.rolling(window=forward_vol_period).mean()\n",
    "    predict_df['for_vol_predict'] = predict_df['backtothefuture'].shift(-forward_vol_period)\n",
    "    \n",
    "    \n",
    "\n",
    "    dataframe = pd.merge(dataframe1, predict_df, on='Date Time')\n",
    "    \n",
    "    dataframe = dataframe[[ \"Date Time\", 'for_vol_df1', 'for_vol_predict']]\n",
    "    \n",
    "    dataframe = dataframe.dropna(how = 'any')\n",
    "    dataframe = dataframe.iloc[1:]\n",
    "    \n",
    "    \n",
    "    return dataframe "
   ]
  },
  {
   "cell_type": "code",
   "execution_count": 37,
   "metadata": {},
   "outputs": [],
   "source": [
    "'''\n",
    "    Objective: use simple regression to predict the vol   \n",
    "    INPUTS:\n",
    "    dataframe - dataframe processed from process_forward_regress_two\n",
    "    most_degree - the most amount of degress for the polynomial\n",
    "    \n",
    "    predictors: predictors to feed into the regression model\n",
    "    \n",
    "    Output: The number of features used, the number of predictors used, the root mean square error,\n",
    "            the root mean square error in vol, the R2 and the predicted vol.  \n",
    "'''\n",
    "\n",
    "\n",
    "def predict(dataframe, most_degree, predictor):\n",
    "    rmse_vol_list = []\n",
    "    d = 1\n",
    "    degrees = []\n",
    "    while d < most_degree:\n",
    "        \n",
    "        x = dataframe[['for_vol_df1']].values\n",
    "        \n",
    "        y = dataframe['for_vol_predict'].values\n",
    "        \n",
    "        polynomial_features= PolynomialFeatures(degree=d)\n",
    "        x_poly = polynomial_features.fit_transform(x)\n",
    "\n",
    "        new_model = LinearRegression()\n",
    "        new_model.fit(x_poly, y)\n",
    "        y_poly_pred = new_model.predict(x_poly)\n",
    "\n",
    "        rmse = np.sqrt(mean_squared_error(y,y_poly_pred))\n",
    "        r2 = r2_score(y,y_poly_pred)\n",
    "        rmse_vol = rate_convert(rmse)\n",
    "        \n",
    "        rmse_vol_list.append(rmse_vol)\n",
    "        degrees.append(d)\n",
    "        \n",
    "        d = d + 1 \n",
    "        \n",
    "    lowest_rmse_vol = min(rmse_vol_list)\n",
    "    lowest_rmse_vol_position = rmse_vol_list.index(lowest_rmse_vol)\n",
    "    the_degree = lowest_rmse_vol_position + 1 \n",
    "    \n",
    "    \n",
    "    \n",
    "    \n",
    "    \n",
    "    \n",
    "    \n",
    "     \n",
    "    x = dataframe[['for_vol_df1']].values\n",
    "    y = dataframe['for_vol_predict'].values\n",
    "\n",
    "    polynomial_features= PolynomialFeatures(degree=the_degree)\n",
    "    x_poly = polynomial_features.fit_transform(x)\n",
    "\n",
    "    new_model = LinearRegression()\n",
    "    new_model.fit(x_poly, y)\n",
    "    y_poly_pred = new_model.predict(x_poly)\n",
    "\n",
    "    rmse = np.sqrt(mean_squared_error(y,y_poly_pred))\n",
    "    r2 = r2_score(y,y_poly_pred)\n",
    "    \n",
    "    rmse_vol = rate_convert(rmse)\n",
    "    \n",
    "    polynomial_features=PolynomialFeatures(degree=the_degree)\n",
    "    x_test_poly = polynomial_features.fit_transform(predictor)\n",
    "    rate = new_model.predict(x_test_poly)\n",
    "    vol = rate_convert(rate[0])\n",
    "    vol_spread = round(vol - rate_convert(predictor), 4)\n",
    "    feature_vol = rate_convert(predictor)\n",
    "    \n",
    "    \n",
    "    print('The root mean square error is: ', rmse)\n",
    "    print('The predictor used is: ', predictor)\n",
    "    print('The root mean square error in vol is: ', rmse_vol)\n",
    "    print('The R2 is: ', r2)\n",
    "    print('The degree is: ', the_degree)\n",
    "    print('The feature vol is: ', feature_vol)\n",
    "    print('The predicted vol is: ', vol)\n",
    "    print('The vol spread is:', vol_spread)\n",
    "\n",
    "    "
   ]
  },
  {
   "cell_type": "markdown",
   "metadata": {},
   "source": [
    "## Decision Tree"
   ]
  },
  {
   "cell_type": "code",
   "execution_count": 38,
   "metadata": {},
   "outputs": [],
   "source": [
    "'''\n",
    "    Objective: Return a dataframe that can be used to process the input for the decision tree   \n",
    "    INPUTS:\n",
    "    dataframe - dataframe \n",
    "    hist1, hist2, hist3 - the historical time frame in days to measure the average volatility\n",
    "    \n",
    "    volume1, volume 2 - the historical time frame in days to measure the average volume\n",
    "    \n",
    "    Output: a processed dataframe that can be used to feed a sample for the decision tree algorithm  \n",
    "'''\n",
    "\n",
    "def process_sample(dataframe, hist1, hist2, hist3, volume1, volume2):\n",
    "    \n",
    "    dataframe['abs_change'] = dataframe['Change'].abs() / dataframe['Close']\n",
    "    \n",
    "    dataframe['high_move'] = (((dataframe.High - dataframe.Close.shift(1))/dataframe['Close']).abs())\n",
    "    dataframe['low_move'] = (((dataframe.Low - dataframe.Close.shift(1))/dataframe['Close']).abs())\n",
    "    dataframe['max_move'] = dataframe[['high_move', 'low_move']].max(axis=1)\n",
    "    \n",
    "    dataframe['hist_max_1'] = dataframe.max_move.rolling(window=hist1).mean()\n",
    "    dataframe['hist_max_2'] = dataframe.max_move.rolling(window=hist2).mean()\n",
    "    dataframe['hist_max_3'] = dataframe.max_move.rolling(window=hist3).mean()\n",
    "    \n",
    "    dataframe['hist_change_1'] = dataframe.abs_change.rolling(window=hist1).mean()\n",
    "    dataframe['hist_change_2'] = dataframe.abs_change.rolling(window=hist2).mean()\n",
    "    dataframe['hist_change_3'] = dataframe.abs_change.rolling(window=hist3).mean()\n",
    "    \n",
    "    dataframe['avg_max_close'] = dataframe[['max_move', 'abs_change']].mean(axis=1)\n",
    "    \n",
    "    dataframe['hist_avgmax_1'] = dataframe.avg_max_close.rolling(window=hist1).mean()\n",
    "    dataframe['hist_avgmax_2'] = dataframe.avg_max_close.rolling(window=hist2).mean()\n",
    "    dataframe['hist_avgmax_3'] = dataframe.avg_max_close.rolling(window=hist3).mean()\n",
    "    \n",
    "    dataframe['hist_volume_1'] = dataframe.Volume.rolling(window=volume1).mean()\n",
    "    dataframe['hist_volume_2'] = dataframe.Volume.rolling(window=volume2).mean()\n",
    "    \n",
    "\n",
    "    #drop column \n",
    "    del dataframe['Open']\n",
    "    del dataframe['High']\n",
    "    del dataframe['Low']\n",
    "    del dataframe['Close']\n",
    "    \n",
    "    return dataframe "
   ]
  },
  {
   "cell_type": "code",
   "execution_count": 39,
   "metadata": {},
   "outputs": [],
   "source": [
    "\n",
    "'''\n",
    "    Objective: To look at other variables related to volatility and use\n",
    "    a machine learning classification algorithm, Decision Tree.  \n",
    "    The function ‘find_vol’ tests a variety of volatility levels and returns \n",
    "    a 1 if the forward volatility is predicted to be greater or a 0 if the forward volatility is not \n",
    "    predicted to be greater than a certain level.  The user can set the various levels of \n",
    "    volatility to test.  The algorithm trains on a data set that includes \n",
    "    various historical volatility levels and volumes.  It then compares that to the asset’s forward volatility level, \n",
    "    denoting a 1 or 0 depending if it predicts the forward volatility level ended up being greater than the \n",
    "    prescribed level.     \n",
    "    INPUTS:\n",
    "    dataframe - dataframe\n",
    "    start_vol - the lowest vol to test\n",
    "    end_vol - the highest vol to test\n",
    "    step - how much to add to each level of vol to test\n",
    "    hist_period1, 2, 3 - historical period in days to use as a variable for the average volatility\n",
    "    \n",
    "    volume1, volume 2 - the historical time frame in days to measure the average volume\n",
    "    \n",
    "    forward_vol_period - the forward period in days we are measuring the volatility \n",
    "    \n",
    "    Output: iterations at each vol level denoted by beg_vol, end_vol and step, the classification :if the model predicts\n",
    "            it would be more volatile, denoted by a 1 or 0.  The training accuracy, the test accuracy, \n",
    "            the recall, the F1, the number of days and the percentage of volatile days \n",
    "            within the data set at every vol level.   \n",
    "\n",
    "'''\n",
    "\n",
    "\n",
    "\n",
    "\n",
    "\n",
    "\n",
    "\n",
    "def find_vol(dataframe, start_vol, end_vol, step, hist_period1, hist_period2, hist_period3, \n",
    "             volume_period1, volume_period2, forward_vol_period):\n",
    "    vol = start_vol\n",
    "    while vol < end_vol: \n",
    "        answer = 1 \n",
    "        rate = vol_convert(vol)\n",
    "        beg_frame = dataframe.copy()\n",
    "        \n",
    "        frame = process(dataframe,hist_period1 ,hist_period2 ,hist_period3 ,volume_period1,volume_period2,\n",
    "                        forward_vol_period, rate, 0)\n",
    "        \n",
    "        features = frame[[ \"Open Interest\", \"hist_avgmax_1\", \"hist_avgmax_2\", \"hist_avgmax_3\", \"hist_volume_1\", \n",
    "                     \"hist_volume_2\", ]]\n",
    "    \n",
    "        features = features.dropna(how = 'any')\n",
    "    \n",
    "        outcomes = frame['volatile']\n",
    "        \n",
    "\n",
    "        X_train, X_test, y_train, y_test = train_test_split(features, outcomes, test_size=0.30, random_state=42)\n",
    "        # Training the model\n",
    "        model = DecisionTreeClassifier(max_depth=15, min_samples_leaf=20, min_samples_split=20)\n",
    "        model.fit(X_train, y_train)\n",
    "\n",
    "        # Making predictions\n",
    "        y_train_pred = model.predict(X_train)\n",
    "        y_test_pred = model.predict(X_test)\n",
    "\n",
    "        # Calculating accuracies\n",
    "        train_accuracy = accuracy_score(y_train, y_train_pred)\n",
    "        test_accuracy = accuracy_score(y_test, y_test_pred)\n",
    "        precision = precision_score(y_test, y_test_pred)\n",
    "        recall = recall_score(y_test, y_test_pred)\n",
    "        the_f1 = f1_score(y_test, y_test_pred)\n",
    "        \n",
    "   \n",
    "    \n",
    "        original_data = process_sample(beg_frame, hist_period1 ,hist_period2 ,hist_period3 , volume_period1, volume_period2)\n",
    "        #original_data = original_data.dropna(how = 'any')\n",
    "        \n",
    "        #del original_data['Date Time']\n",
    "        #last_row = original_data.index[-1]\n",
    "        #one_sample = [new_og.iloc[last_row,:]] \n",
    "        \n",
    "        last_date_row = original_data.tail(1)\n",
    "        one_sample = last_date_row[[\"Open Interest\", \"hist_avgmax_1\", \"hist_avgmax_2\", \"hist_avgmax_3\", \n",
    "                       \"hist_volume_1\", \"hist_volume_2\",]].values\n",
    "    \n",
    "        answer = model.predict(one_sample)\n",
    "        answer = answer[0]\n",
    "        print(vol)\n",
    "        print(answer)\n",
    "        print('The training accuracy is', train_accuracy)\n",
    "        print('The test accuracy is', test_accuracy)\n",
    "        print('The precision is', precision)\n",
    "        print('The recall is', recall)\n",
    "        print('The F1 is', the_f1 )\n",
    "        \n",
    "        \n",
    "        print('The number of days', len(outcomes))\n",
    "        print('The percentage of volatile days', ((outcomes == 1).sum()) / len(outcomes))\n",
    "        \n",
    "        \n",
    "        \n",
    "        #print(frame.head(1))\n",
    "    \n",
    "        #if answer == 0:\n",
    "            #break\n",
    "        \n",
    "        vol = vol + step\n"
   ]
  },
  {
   "cell_type": "code",
   "execution_count": 40,
   "metadata": {},
   "outputs": [
    {
     "name": "stdout",
     "output_type": "stream",
     "text": [
      "3.5\n",
      "1\n",
      "The training accuracy is 0.9185185185185185\n",
      "The test accuracy is 0.9322033898305084\n",
      "The precision is 0.9322033898305084\n",
      "The recall is 1.0\n",
      "The F1 is 0.9649122807017544\n",
      "The number of days 194\n",
      "The percentage of volatile days 0.9226804123711341\n",
      "3.65\n",
      "1\n",
      "The training accuracy is 0.9111111111111111\n",
      "The test accuracy is 0.8305084745762712\n",
      "The precision is 0.9787234042553191\n",
      "The recall is 0.8363636363636363\n",
      "The F1 is 0.9019607843137255\n",
      "The number of days 194\n",
      "The percentage of volatile days 0.9175257731958762\n",
      "3.8\n",
      "1\n",
      "The training accuracy is 0.9037037037037037\n",
      "The test accuracy is 0.8305084745762712\n",
      "The precision is 0.9574468085106383\n",
      "The recall is 0.8490566037735849\n",
      "The F1 is 0.9\n",
      "The number of days 194\n",
      "The percentage of volatile days 0.9020618556701031\n",
      "3.9499999999999997\n",
      "1\n",
      "The training accuracy is 0.9037037037037037\n",
      "The test accuracy is 0.864406779661017\n",
      "The precision is 0.9056603773584906\n",
      "The recall is 0.9411764705882353\n",
      "The F1 is 0.923076923076923\n",
      "The number of days 194\n",
      "The percentage of volatile days 0.8762886597938144\n",
      "4.1\n",
      "1\n",
      "The training accuracy is 0.8814814814814815\n",
      "The test accuracy is 0.8813559322033898\n",
      "The precision is 0.9056603773584906\n",
      "The recall is 0.96\n",
      "The F1 is 0.9320388349514563\n",
      "The number of days 194\n",
      "The percentage of volatile days 0.845360824742268\n",
      "4.25\n",
      "1\n",
      "The training accuracy is 0.8740740740740741\n",
      "The test accuracy is 0.7627118644067796\n",
      "The precision is 0.8666666666666667\n",
      "The recall is 0.8297872340425532\n",
      "The F1 is 0.8478260869565217\n",
      "The number of days 194\n",
      "The percentage of volatile days 0.7835051546391752\n",
      "4.4\n",
      "1\n",
      "The training accuracy is 0.837037037037037\n",
      "The test accuracy is 0.7288135593220338\n",
      "The precision is 0.8222222222222222\n",
      "The recall is 0.8222222222222222\n",
      "The F1 is 0.8222222222222222\n",
      "The number of days 194\n",
      "The percentage of volatile days 0.7371134020618557\n",
      "4.550000000000001\n",
      "0\n",
      "The training accuracy is 0.8222222222222222\n",
      "The test accuracy is 0.7457627118644068\n",
      "The precision is 0.825\n",
      "The recall is 0.8048780487804879\n",
      "The F1 is 0.8148148148148149\n",
      "The number of days 194\n",
      "The percentage of volatile days 0.6649484536082474\n",
      "4.700000000000001\n",
      "0\n",
      "The training accuracy is 0.7925925925925926\n",
      "The test accuracy is 0.711864406779661\n",
      "The precision is 0.9230769230769231\n",
      "The recall is 0.6153846153846154\n",
      "The F1 is 0.7384615384615384\n",
      "The number of days 194\n",
      "The percentage of volatile days 0.5979381443298969\n",
      "4.850000000000001\n",
      "0\n",
      "The training accuracy is 0.8296296296296296\n",
      "The test accuracy is 0.7966101694915254\n",
      "The precision is 0.8275862068965517\n",
      "The recall is 0.7741935483870968\n",
      "The F1 is 0.7999999999999999\n",
      "The number of days 194\n",
      "The percentage of volatile days 0.5\n",
      "5.000000000000002\n",
      "0\n",
      "The training accuracy is 0.8296296296296296\n",
      "The test accuracy is 0.8305084745762712\n",
      "The precision is 0.7931034482758621\n",
      "The recall is 0.8518518518518519\n",
      "The F1 is 0.8214285714285715\n",
      "The number of days 194\n",
      "The percentage of volatile days 0.4690721649484536\n",
      "5.150000000000002\n",
      "0\n",
      "The training accuracy is 0.8148148148148148\n",
      "The test accuracy is 0.864406779661017\n",
      "The precision is 0.7586206896551724\n",
      "The recall is 0.9565217391304348\n",
      "The F1 is 0.8461538461538461\n",
      "The number of days 194\n",
      "The percentage of volatile days 0.4381443298969072\n",
      "5.3000000000000025\n",
      "0\n",
      "The training accuracy is 0.8592592592592593\n",
      "The test accuracy is 0.8813559322033898\n",
      "The precision is 0.7586206896551724\n",
      "The recall is 1.0\n",
      "The F1 is 0.8627450980392156\n",
      "The number of days 194\n",
      "The percentage of volatile days 0.3711340206185567\n",
      "5.450000000000003\n",
      "0\n",
      "The training accuracy is 0.8814814814814815\n",
      "The test accuracy is 0.847457627118644\n",
      "The precision is 0.6896551724137931\n",
      "The recall is 1.0\n",
      "The F1 is 0.8163265306122449\n",
      "The number of days 194\n",
      "The percentage of volatile days 0.32989690721649484\n",
      "5.600000000000003\n",
      "0\n",
      "The training accuracy is 0.8518518518518519\n",
      "The test accuracy is 0.8135593220338984\n",
      "The precision is 0.6538461538461539\n",
      "The recall is 0.8947368421052632\n",
      "The F1 is 0.7555555555555555\n",
      "The number of days 194\n",
      "The percentage of volatile days 0.27319587628865977\n",
      "5.7500000000000036\n",
      "0\n",
      "The training accuracy is 0.8666666666666667\n",
      "The test accuracy is 0.8135593220338984\n",
      "The precision is 0.7058823529411765\n",
      "The recall is 0.6666666666666666\n",
      "The F1 is 0.6857142857142857\n",
      "The number of days 194\n",
      "The percentage of volatile days 0.23711340206185566\n",
      "5.900000000000004\n",
      "0\n",
      "The training accuracy is 0.8888888888888888\n",
      "The test accuracy is 0.8135593220338984\n",
      "The precision is 0.6470588235294118\n",
      "The recall is 0.6875\n",
      "The F1 is 0.6666666666666667\n",
      "The number of days 194\n",
      "The percentage of volatile days 0.211340206185567\n",
      "6.050000000000004\n",
      "0\n",
      "The training accuracy is 0.8888888888888888\n",
      "The test accuracy is 0.7457627118644068\n",
      "The precision is 0.47058823529411764\n",
      "The recall is 0.5714285714285714\n",
      "The F1 is 0.5161290322580646\n",
      "The number of days 194\n",
      "The percentage of volatile days 0.1958762886597938\n",
      "6.200000000000005\n",
      "0\n",
      "The training accuracy is 0.8814814814814815\n",
      "The test accuracy is 0.7627118644067796\n",
      "The precision is 0.47058823529411764\n",
      "The recall is 0.6153846153846154\n",
      "The F1 is 0.5333333333333333\n",
      "The number of days 194\n",
      "The percentage of volatile days 0.18556701030927836\n",
      "6.350000000000005\n",
      "0\n",
      "The training accuracy is 0.8888888888888888\n",
      "The test accuracy is 0.7457627118644068\n",
      "The precision is 0.4117647058823529\n",
      "The recall is 0.5833333333333334\n",
      "The F1 is 0.4827586206896552\n",
      "The number of days 194\n",
      "The percentage of volatile days 0.17525773195876287\n",
      "6.500000000000005\n",
      "0\n",
      "The training accuracy is 0.8962962962962963\n",
      "The test accuracy is 0.8813559322033898\n",
      "The precision is 0.7777777777777778\n",
      "The recall is 0.5833333333333334\n",
      "The F1 is 0.6666666666666666\n",
      "The number of days 194\n",
      "The percentage of volatile days 0.15463917525773196\n",
      "6.650000000000006\n",
      "0\n",
      "The training accuracy is 0.8888888888888888\n",
      "The test accuracy is 0.8813559322033898\n",
      "The precision is 0.7777777777777778\n",
      "The recall is 0.5833333333333334\n",
      "The F1 is 0.6666666666666666\n",
      "The number of days 194\n",
      "The percentage of volatile days 0.14948453608247422\n",
      "6.800000000000006\n",
      "0\n",
      "The training accuracy is 0.8814814814814815\n",
      "The test accuracy is 0.8135593220338984\n",
      "The precision is 0.0\n",
      "The recall is 0.0\n",
      "The F1 is 0.0\n",
      "The number of days 194\n",
      "The percentage of volatile days 0.13917525773195877\n",
      "6.950000000000006\n",
      "0\n",
      "The training accuracy is 0.8814814814814815\n",
      "The test accuracy is 0.8135593220338984\n",
      "The precision is 0.0\n",
      "The recall is 0.0\n",
      "The F1 is 0.0\n",
      "The number of days 194\n",
      "The percentage of volatile days 0.13917525773195877\n"
     ]
    },
    {
     "name": "stderr",
     "output_type": "stream",
     "text": [
      "C:\\Users\\Matt\\Anaconda3\\lib\\site-packages\\sklearn\\metrics\\classification.py:1135: UndefinedMetricWarning: Precision is ill-defined and being set to 0.0 due to no predicted samples.\n",
      "  'precision', 'predicted', average, warn_for)\n",
      "C:\\Users\\Matt\\Anaconda3\\lib\\site-packages\\sklearn\\metrics\\classification.py:1135: UndefinedMetricWarning: F-score is ill-defined and being set to 0.0 due to no predicted samples.\n",
      "  'precision', 'predicted', average, warn_for)\n",
      "C:\\Users\\Matt\\Anaconda3\\lib\\site-packages\\sklearn\\metrics\\classification.py:1135: UndefinedMetricWarning: Precision is ill-defined and being set to 0.0 due to no predicted samples.\n",
      "  'precision', 'predicted', average, warn_for)\n",
      "C:\\Users\\Matt\\Anaconda3\\lib\\site-packages\\sklearn\\metrics\\classification.py:1135: UndefinedMetricWarning: F-score is ill-defined and being set to 0.0 due to no predicted samples.\n",
      "  'precision', 'predicted', average, warn_for)\n",
      "C:\\Users\\Matt\\Anaconda3\\lib\\site-packages\\sklearn\\metrics\\classification.py:1135: UndefinedMetricWarning: Precision is ill-defined and being set to 0.0 due to no predicted samples.\n",
      "  'precision', 'predicted', average, warn_for)\n",
      "C:\\Users\\Matt\\Anaconda3\\lib\\site-packages\\sklearn\\metrics\\classification.py:1135: UndefinedMetricWarning: F-score is ill-defined and being set to 0.0 due to no predicted samples.\n",
      "  'precision', 'predicted', average, warn_for)\n"
     ]
    },
    {
     "name": "stdout",
     "output_type": "stream",
     "text": [
      "7.100000000000007\n",
      "0\n",
      "The training accuracy is 0.9111111111111111\n",
      "The test accuracy is 0.847457627118644\n",
      "The precision is 0.0\n",
      "The recall is 0.0\n",
      "The F1 is 0.0\n",
      "The number of days 194\n",
      "The percentage of volatile days 0.10824742268041238\n",
      "7.250000000000007\n",
      "0\n",
      "The training accuracy is 0.9259259259259259\n",
      "The test accuracy is 0.847457627118644\n",
      "The precision is 0.0\n",
      "The recall is 0.0\n",
      "The F1 is 0.0\n",
      "The number of days 194\n",
      "The percentage of volatile days 0.0979381443298969\n",
      "7.4000000000000075\n",
      "0\n",
      "The training accuracy is 0.9333333333333333\n",
      "The test accuracy is 0.847457627118644\n",
      "The precision is 0.0\n",
      "The recall is 0.0\n",
      "The F1 is 0.0\n",
      "The number of days 194\n",
      "The percentage of volatile days 0.09278350515463918\n"
     ]
    },
    {
     "name": "stderr",
     "output_type": "stream",
     "text": [
      "C:\\Users\\Matt\\Anaconda3\\lib\\site-packages\\sklearn\\metrics\\classification.py:1135: UndefinedMetricWarning: Precision is ill-defined and being set to 0.0 due to no predicted samples.\n",
      "  'precision', 'predicted', average, warn_for)\n",
      "C:\\Users\\Matt\\Anaconda3\\lib\\site-packages\\sklearn\\metrics\\classification.py:1135: UndefinedMetricWarning: F-score is ill-defined and being set to 0.0 due to no predicted samples.\n",
      "  'precision', 'predicted', average, warn_for)\n",
      "C:\\Users\\Matt\\Anaconda3\\lib\\site-packages\\sklearn\\metrics\\classification.py:1135: UndefinedMetricWarning: Precision is ill-defined and being set to 0.0 due to no predicted samples.\n",
      "  'precision', 'predicted', average, warn_for)\n",
      "C:\\Users\\Matt\\Anaconda3\\lib\\site-packages\\sklearn\\metrics\\classification.py:1135: UndefinedMetricWarning: F-score is ill-defined and being set to 0.0 due to no predicted samples.\n",
      "  'precision', 'predicted', average, warn_for)\n",
      "C:\\Users\\Matt\\Anaconda3\\lib\\site-packages\\sklearn\\metrics\\classification.py:1135: UndefinedMetricWarning: Precision is ill-defined and being set to 0.0 due to no predicted samples.\n",
      "  'precision', 'predicted', average, warn_for)\n",
      "C:\\Users\\Matt\\Anaconda3\\lib\\site-packages\\sklearn\\metrics\\classification.py:1135: UndefinedMetricWarning: F-score is ill-defined and being set to 0.0 due to no predicted samples.\n",
      "  'precision', 'predicted', average, warn_for)\n"
     ]
    },
    {
     "name": "stdout",
     "output_type": "stream",
     "text": [
      "7.550000000000008\n",
      "0\n",
      "The training accuracy is 0.9333333333333333\n",
      "The test accuracy is 0.847457627118644\n",
      "The precision is 0.0\n",
      "The recall is 0.0\n",
      "The F1 is 0.0\n",
      "The number of days 194\n",
      "The percentage of volatile days 0.09278350515463918\n",
      "7.700000000000008\n",
      "0\n",
      "The training accuracy is 0.9333333333333333\n",
      "The test accuracy is 0.847457627118644\n",
      "The precision is 0.0\n",
      "The recall is 0.0\n",
      "The F1 is 0.0\n",
      "The number of days 194\n",
      "The percentage of volatile days 0.09278350515463918\n",
      "7.8500000000000085\n",
      "0\n",
      "The training accuracy is 0.9407407407407408\n",
      "The test accuracy is 0.864406779661017\n",
      "The precision is 0.0\n",
      "The recall is 0.0\n",
      "The F1 is 0.0\n",
      "The number of days 194\n",
      "The percentage of volatile days 0.08247422680412371\n"
     ]
    },
    {
     "name": "stderr",
     "output_type": "stream",
     "text": [
      "C:\\Users\\Matt\\Anaconda3\\lib\\site-packages\\sklearn\\metrics\\classification.py:1135: UndefinedMetricWarning: Precision is ill-defined and being set to 0.0 due to no predicted samples.\n",
      "  'precision', 'predicted', average, warn_for)\n",
      "C:\\Users\\Matt\\Anaconda3\\lib\\site-packages\\sklearn\\metrics\\classification.py:1135: UndefinedMetricWarning: F-score is ill-defined and being set to 0.0 due to no predicted samples.\n",
      "  'precision', 'predicted', average, warn_for)\n",
      "C:\\Users\\Matt\\Anaconda3\\lib\\site-packages\\sklearn\\metrics\\classification.py:1135: UndefinedMetricWarning: Precision is ill-defined and being set to 0.0 due to no predicted samples.\n",
      "  'precision', 'predicted', average, warn_for)\n",
      "C:\\Users\\Matt\\Anaconda3\\lib\\site-packages\\sklearn\\metrics\\classification.py:1135: UndefinedMetricWarning: F-score is ill-defined and being set to 0.0 due to no predicted samples.\n",
      "  'precision', 'predicted', average, warn_for)\n"
     ]
    }
   ],
   "source": [
    "find_vol(dt_df, start_vol, end_vol, step, hist_period1, hist_period2, hist_period3, \n",
    "         volume_period1, volume_period2, forward_vol_period)"
   ]
  },
  {
   "cell_type": "markdown",
   "metadata": {},
   "source": [
    "## RUN Multiple Regression"
   ]
  },
  {
   "cell_type": "code",
   "execution_count": 41,
   "metadata": {},
   "outputs": [],
   "source": [
    "eur = read_format(file_one)\n",
    "jpy = read_format(file_two)\n",
    "bp =  read_format(file_three)\n",
    "ca =  read_format(file_four)\n",
    "au =  read_format(file_five)"
   ]
  },
  {
   "cell_type": "code",
   "execution_count": 42,
   "metadata": {},
   "outputs": [],
   "source": [
    "mult_df = process_forward_regress(sub1, sub2, sub3, sub4, focus, number_of_days_to_sample)\n"
   ]
  },
  {
   "cell_type": "code",
   "execution_count": 43,
   "metadata": {},
   "outputs": [],
   "source": [
    "mult_df_period = mult_df.tail(days_to_train)"
   ]
  },
  {
   "cell_type": "code",
   "execution_count": 44,
   "metadata": {},
   "outputs": [
    {
     "data": {
      "text/plain": [
       "<matplotlib.axes._subplots.AxesSubplot at 0xd3c89b0>"
      ]
     },
     "execution_count": 44,
     "metadata": {},
     "output_type": "execute_result"
    },
    {
     "data": {
      "image/png": "[encoded data removed]",
      "text/plain": [
       "<Figure size 792x288 with 2 Axes>"
      ]
     },
     "metadata": {},
     "output_type": "display_data"
    }
   ],
   "source": [
    "corrMatrix = mult_df_period.corr()\n",
    "sn.heatmap(corrMatrix, annot=True)"
   ]
  },
  {
   "cell_type": "code",
   "execution_count": 45,
   "metadata": {},
   "outputs": [
    {
     "data": {
      "text/plain": [
       "[0.003225, 0.007202, 0.00233, 0.003757]"
      ]
     },
     "execution_count": 45,
     "metadata": {},
     "output_type": "execute_result"
    }
   ],
   "source": [
    "fx_predictors = process_vols(sub_vol, sub2_vol, sub3_vol, sub4_vol)\n",
    "fx_predictors"
   ]
  },
  {
   "cell_type": "code",
   "execution_count": 46,
   "metadata": {},
   "outputs": [
    {
     "name": "stdout",
     "output_type": "stream",
     "text": [
      "The features used are:  ['for_vol_df1', 'for_vol_df2', 'for_vol_df3', 'for_vol_df4']\n",
      "The predictors used are:  [0.003225, 0.007202, 0.00233, 0.003757]\n",
      "The root mean square error is:  0.0004104895109602709\n",
      "The root mean square error in vol is:  0.66\n",
      "The R2 is:  0.647775458549557\n",
      "The degree is:  2\n",
      "The predicted vol is:  4.34\n"
     ]
    }
   ],
   "source": [
    "predict_multiple(mult_df_period, 5, 4, fx_predictors)"
   ]
  },
  {
   "cell_type": "markdown",
   "metadata": {},
   "source": [
    "## RUN Simple Regression"
   ]
  },
  {
   "cell_type": "code",
   "execution_count": 47,
   "metadata": {},
   "outputs": [],
   "source": [
    "eur = read_format(file_one)\n",
    "jpy = read_format(file_two)\n",
    "bp =  read_format(file_three)\n",
    "ca =  read_format(file_four)\n",
    "au =  read_format(file_five)"
   ]
  },
  {
   "cell_type": "code",
   "execution_count": 48,
   "metadata": {},
   "outputs": [],
   "source": [
    "simple_df = process_forward_regress_two(sub1, focus, number_of_days_to_sample )\n"
   ]
  },
  {
   "cell_type": "code",
   "execution_count": 49,
   "metadata": {},
   "outputs": [],
   "source": [
    "simple_df_period = simple_df.tail(days_to_train)"
   ]
  },
  {
   "cell_type": "code",
   "execution_count": 50,
   "metadata": {},
   "outputs": [
    {
     "data": {
      "text/html": [
       "<div>\n",
       "<style scoped>\n",
       "    .dataframe tbody tr th:only-of-type {\n",
       "        vertical-align: middle;\n",
       "    }\n",
       "\n",
       "    .dataframe tbody tr th {\n",
       "        vertical-align: top;\n",
       "    }\n",
       "\n",
       "    .dataframe thead th {\n",
       "        text-align: right;\n",
       "    }\n",
       "</style>\n",
       "<table border=\"1\" class=\"dataframe\">\n",
       "  <thead>\n",
       "    <tr style=\"text-align: right;\">\n",
       "      <th></th>\n",
       "      <th>for_vol_df1</th>\n",
       "      <th>for_vol_predict</th>\n",
       "    </tr>\n",
       "  </thead>\n",
       "  <tbody>\n",
       "    <tr>\n",
       "      <th>for_vol_df1</th>\n",
       "      <td>1.00000</td>\n",
       "      <td>0.32721</td>\n",
       "    </tr>\n",
       "    <tr>\n",
       "      <th>for_vol_predict</th>\n",
       "      <td>0.32721</td>\n",
       "      <td>1.00000</td>\n",
       "    </tr>\n",
       "  </tbody>\n",
       "</table>\n",
       "</div>"
      ],
      "text/plain": [
       "                 for_vol_df1  for_vol_predict\n",
       "for_vol_df1          1.00000          0.32721\n",
       "for_vol_predict      0.32721          1.00000"
      ]
     },
     "execution_count": 50,
     "metadata": {},
     "output_type": "execute_result"
    }
   ],
   "source": [
    "simple_df_period.corr()"
   ]
  },
  {
   "cell_type": "code",
   "execution_count": 51,
   "metadata": {},
   "outputs": [
    {
     "data": {
      "text/plain": [
       "0.003225"
      ]
     },
     "execution_count": 51,
     "metadata": {},
     "output_type": "execute_result"
    }
   ],
   "source": [
    "fx_predictor = vol_convert(sub_vol)\n",
    "fx_predictor"
   ]
  },
  {
   "cell_type": "code",
   "execution_count": 52,
   "metadata": {},
   "outputs": [
    {
     "name": "stdout",
     "output_type": "stream",
     "text": [
      "The root mean square error is:  0.0006260947109764111\n",
      "The predictor used is:  0.003225\n",
      "The root mean square error in vol is:  1.0\n",
      "The R2 is:  0.18060076544609338\n",
      "The degree is:  4\n",
      "The feature vol is:  5.15\n",
      "The predicted vol is:  4.9\n",
      "The vol spread is: -0.25\n"
     ]
    }
   ],
   "source": [
    "predict(simple_df_period, 5, fx_predictor)"
   ]
  },
  {
   "cell_type": "markdown",
   "metadata": {},
   "source": [
    "## RUN SAMPLING ANALYSIS"
   ]
  },
  {
   "cell_type": "code",
   "execution_count": 53,
   "metadata": {},
   "outputs": [
    {
     "data": {
      "text/plain": [
       "0.01011"
      ]
     },
     "execution_count": 53,
     "metadata": {},
     "output_type": "execute_result"
    }
   ],
   "source": [
    "sim_option_value(range_of_days, 10000, number_of_days_to_sample, atm_price, True)"
   ]
  },
  {
   "cell_type": "code",
   "execution_count": 54,
   "metadata": {},
   "outputs": [
    {
     "name": "stdout",
     "output_type": "stream",
     "text": [
      "The date range includes 222 days\n",
      "17 days were sampled, out of the 222 days\n",
      "The mean vol is: 4.12\n",
      "The standard deviation is: 0.83\n",
      "The percentage of sample groups that had mean volatilities above 4.5 is: 0.3147\n"
     ]
    }
   ],
   "source": [
    "hist_move_sampling(range_of_days, number_of_days_to_sample, 10000, focus_vol, True)"
   ]
  },
  {
   "cell_type": "code",
   "execution_count": null,
   "metadata": {},
   "outputs": [],
   "source": []
  },
  {
   "cell_type": "code",
   "execution_count": null,
   "metadata": {},
   "outputs": [],
   "source": []
  },
  {
   "cell_type": "code",
   "execution_count": null,
   "metadata": {},
   "outputs": [],
   "source": []
  },
  {
   "cell_type": "code",
   "execution_count": null,
   "metadata": {},
   "outputs": [],
   "source": []
  },
  {
   "cell_type": "code",
   "execution_count": null,
   "metadata": {},
   "outputs": [],
   "source": []
  },
  {
   "cell_type": "code",
   "execution_count": null,
   "metadata": {},
   "outputs": [],
   "source": []
  },
  {
   "cell_type": "code",
   "execution_count": null,
   "metadata": {},
   "outputs": [],
   "source": []
  },
  {
   "cell_type": "code",
   "execution_count": null,
   "metadata": {},
   "outputs": [],
   "source": []
  },
  {
   "cell_type": "code",
   "execution_count": null,
   "metadata": {},
   "outputs": [],
   "source": []
  }
 ],
 "metadata": {
  "kernelspec": {
   "display_name": "Python 3",
   "language": "python",
   "name": "python3"
  },
  "language_info": {
   "codemirror_mode": {
    "name": "ipython",
    "version": 3
   },
   "file_extension": ".py",
   "mimetype": "text/x-python",
   "name": "python",
   "nbconvert_exporter": "python",
   "pygments_lexer": "ipython3",
   "version": "3.6.5"
  }
 },
 "nbformat": 4,
 "nbformat_minor": 2
}
